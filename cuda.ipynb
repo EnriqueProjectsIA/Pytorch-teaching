{
  "nbformat": 4,
  "nbformat_minor": 0,
  "metadata": {
    "colab": {
      "name": "cuda.ipynb",
      "provenance": [],
      "collapsed_sections": [],
      "authorship_tag": "ABX9TyP0A0JCZ1A8fliGDL82yjP/",
      "include_colab_link": true
    },
    "kernelspec": {
      "name": "python3",
      "display_name": "Python 3"
    },
    "language_info": {
      "name": "python"
    },
    "accelerator": "GPU",
    "gpuClass": "standard"
  },
  "cells": [
    {
      "cell_type": "markdown",
      "metadata": {
        "id": "view-in-github",
        "colab_type": "text"
      },
      "source": [
        "<a href=\"https://colab.research.google.com/github/EnriqueProjectsIA/Pytorch-teaching/blob/main/cuda.ipynb\" target=\"_parent\"><img src=\"https://colab.research.google.com/assets/colab-badge.svg\" alt=\"Open In Colab\"/></a>"
      ]
    },
    {
      "cell_type": "code",
      "execution_count": 18,
      "metadata": {
        "id": "xeBnHRxv6AF0"
      },
      "outputs": [],
      "source": [
        "import torch\n",
        "import torch.nn as nn\n",
        "import torch.nn.functional as F\n",
        "from torch.utils.data import Dataset, DataLoader\n",
        "from sklearn.model_selection import train_test_split\n",
        "\n",
        "import pandas as pd\n",
        "from matplotlib import pyplot as plt\n",
        "\n",
        "import time"
      ]
    },
    {
      "cell_type": "markdown",
      "source": [
        "* It is possible to check if CUDA is available"
      ],
      "metadata": {
        "id": "rPOSJ3La6Xir"
      }
    },
    {
      "cell_type": "code",
      "source": [
        "torch.cuda.is_available()"
      ],
      "metadata": {
        "colab": {
          "base_uri": "https://localhost:8080/"
        },
        "id": "2I_I75_f6QSC",
        "outputId": "654fb45c-918a-4091-a8d4-3f26e82ef027"
      },
      "execution_count": 2,
      "outputs": [
        {
          "output_type": "execute_result",
          "data": {
            "text/plain": [
              "True"
            ]
          },
          "metadata": {},
          "execution_count": 2
        }
      ]
    },
    {
      "cell_type": "markdown",
      "source": [
        "* One can also check the available device ID"
      ],
      "metadata": {
        "id": "Klb-eZVO623q"
      }
    },
    {
      "cell_type": "code",
      "source": [
        "torch.cuda.current_device()"
      ],
      "metadata": {
        "colab": {
          "base_uri": "https://localhost:8080/"
        },
        "id": "P3tTIjNt6V_S",
        "outputId": "2b258ca5-c17c-4f1a-a4ab-277f938d53e4"
      },
      "execution_count": null,
      "outputs": [
        {
          "output_type": "execute_result",
          "data": {
            "text/plain": [
              "0"
            ]
          },
          "metadata": {},
          "execution_count": 3
        }
      ]
    },
    {
      "cell_type": "markdown",
      "source": [
        "* One can also find out the hardware name or the amount of RAM memory allocated:"
      ],
      "metadata": {
        "id": "vaV40_647U3L"
      }
    },
    {
      "cell_type": "code",
      "source": [
        "torch.cuda.get_device_name(0)"
      ],
      "metadata": {
        "colab": {
          "base_uri": "https://localhost:8080/",
          "height": 35
        },
        "id": "q58Z3BnG68uy",
        "outputId": "f132658b-dd39-44b9-d738-8de823ea08ad"
      },
      "execution_count": null,
      "outputs": [
        {
          "output_type": "execute_result",
          "data": {
            "text/plain": [
              "'Tesla T4'"
            ],
            "application/vnd.google.colaboratory.intrinsic+json": {
              "type": "string"
            }
          },
          "metadata": {},
          "execution_count": 4
        }
      ]
    },
    {
      "cell_type": "code",
      "source": [
        "torch.cuda.memory_allocated() # units in bits per device"
      ],
      "metadata": {
        "colab": {
          "base_uri": "https://localhost:8080/"
        },
        "id": "P0J3v9jy7GLx",
        "outputId": "b17b2947-a3fa-4e9b-bede-2f06914b0dbc"
      },
      "execution_count": null,
      "outputs": [
        {
          "output_type": "execute_result",
          "data": {
            "text/plain": [
              "0"
            ]
          },
          "metadata": {},
          "execution_count": 5
        }
      ]
    },
    {
      "cell_type": "markdown",
      "source": [
        "* One can also check the memory management"
      ],
      "metadata": {
        "id": "Q3wZDcOv7sB6"
      }
    },
    {
      "cell_type": "code",
      "source": [
        "torch.cuda.memory_cached()"
      ],
      "metadata": {
        "colab": {
          "base_uri": "https://localhost:8080/"
        },
        "id": "GmCFcHA07fAy",
        "outputId": "7a4f7ec6-e5b1-4ded-a561-6ecd46e78ebf"
      },
      "execution_count": null,
      "outputs": [
        {
          "output_type": "stream",
          "name": "stderr",
          "text": [
            "/usr/local/lib/python3.7/dist-packages/torch/cuda/memory.py:393: FutureWarning: torch.cuda.memory_cached has been renamed to torch.cuda.memory_reserved\n",
            "  FutureWarning)\n"
          ]
        },
        {
          "output_type": "execute_result",
          "data": {
            "text/plain": [
              "0"
            ]
          },
          "metadata": {},
          "execution_count": 6
        }
      ]
    },
    {
      "cell_type": "code",
      "source": [
        "torch.cuda.memory_reserved()"
      ],
      "metadata": {
        "colab": {
          "base_uri": "https://localhost:8080/"
        },
        "id": "xtLnwj9F72jg",
        "outputId": "880aed1b-37fa-4c59-bac9-2c1e3ca5e95d"
      },
      "execution_count": null,
      "outputs": [
        {
          "output_type": "execute_result",
          "data": {
            "text/plain": [
              "0"
            ]
          },
          "metadata": {},
          "execution_count": 7
        }
      ]
    },
    {
      "cell_type": "markdown",
      "source": [
        "## We create a tensor"
      ],
      "metadata": {
        "id": "Io3oME_k8Bui"
      }
    },
    {
      "cell_type": "code",
      "source": [
        "a = torch.FloatTensor([1.0,2.0,3.0,4.0,5.0])\n",
        "a"
      ],
      "metadata": {
        "colab": {
          "base_uri": "https://localhost:8080/"
        },
        "id": "AbjR9ovM7_yB",
        "outputId": "05a0ef96-de87-4527-948c-5118774873c7"
      },
      "execution_count": null,
      "outputs": [
        {
          "output_type": "execute_result",
          "data": {
            "text/plain": [
              "tensor([1., 2., 3., 4., 5.])"
            ]
          },
          "metadata": {},
          "execution_count": 10
        }
      ]
    },
    {
      "cell_type": "code",
      "source": [
        "a.device"
      ],
      "metadata": {
        "colab": {
          "base_uri": "https://localhost:8080/"
        },
        "id": "49nJu2fU8PiB",
        "outputId": "a2708130-2742-47e8-b07d-34ecbb105a2a"
      },
      "execution_count": null,
      "outputs": [
        {
          "output_type": "execute_result",
          "data": {
            "text/plain": [
              "device(type='cpu')"
            ]
          },
          "metadata": {},
          "execution_count": 11
        }
      ]
    },
    {
      "cell_type": "markdown",
      "source": [
        "* The tensor has been stored in the CPU and not in the GPU. This is because we have to specify it."
      ],
      "metadata": {
        "id": "YEnHpNNn8WWS"
      }
    },
    {
      "cell_type": "code",
      "source": [
        "a = torch.FloatTensor([1.0,2.0,3.0,4.0,5.0]).cuda()"
      ],
      "metadata": {
        "id": "SwzWTQwy8Uth"
      },
      "execution_count": null,
      "outputs": []
    },
    {
      "cell_type": "code",
      "source": [
        "a.device"
      ],
      "metadata": {
        "colab": {
          "base_uri": "https://localhost:8080/"
        },
        "id": "QHGMUbPq86CB",
        "outputId": "c6743058-d854-4e52-feb3-61f0f9ba6a9d"
      },
      "execution_count": null,
      "outputs": [
        {
          "output_type": "execute_result",
          "data": {
            "text/plain": [
              "device(type='cuda', index=0)"
            ]
          },
          "metadata": {},
          "execution_count": 13
        }
      ]
    },
    {
      "cell_type": "markdown",
      "source": [
        "* Now we can check for the amount of memory allocated."
      ],
      "metadata": {
        "id": "vauPGOia9CKF"
      }
    },
    {
      "cell_type": "code",
      "source": [
        "torch.cuda.memory_allocated()"
      ],
      "metadata": {
        "colab": {
          "base_uri": "https://localhost:8080/"
        },
        "id": "GRO38v2F88xj",
        "outputId": "eb7054bb-2d11-487f-a86f-acf07dc6c999"
      },
      "execution_count": null,
      "outputs": [
        {
          "output_type": "execute_result",
          "data": {
            "text/plain": [
              "512"
            ]
          },
          "metadata": {},
          "execution_count": 14
        }
      ]
    },
    {
      "cell_type": "markdown",
      "source": [
        "* Therefore, if one wants to use CUDA, it is necessary to create the tensors (our data) using the method cuda."
      ],
      "metadata": {
        "id": "8AoWR_NB9p7z"
      }
    },
    {
      "cell_type": "markdown",
      "source": [
        "## CUDA and models"
      ],
      "metadata": {
        "id": "sVm1dHbd-boo"
      }
    },
    {
      "cell_type": "markdown",
      "source": [
        "* One generates the model"
      ],
      "metadata": {
        "id": "GK1kw_E3DzQX"
      }
    },
    {
      "cell_type": "code",
      "source": [
        "class Model(nn.Module):\n",
        "  def __init__(self, in_features = 4, h1 = 8, h2 = 9, out_features = 3):\n",
        "    super().__init__()\n",
        "    self.fc1 = nn.Linear(in_features,h1)\n",
        "    self.fc2 = nn.Linear(h1,h2)\n",
        "    self.out = nn.Linear(h2, out_features)\n",
        "\n",
        "  def forward(self,x):\n",
        "    x = F.relu(self.fc1(x))\n",
        "    x = F.relu(self.fc2(x))\n",
        "    x = self.out(x)\n",
        "    return x"
      ],
      "metadata": {
        "id": "GjIEXC9o9MPz"
      },
      "execution_count": 3,
      "outputs": []
    },
    {
      "cell_type": "code",
      "source": [
        "torch.manual_seed(42)\n",
        "model = Model()"
      ],
      "metadata": {
        "id": "CI7nnG1t_xzo"
      },
      "execution_count": 4,
      "outputs": []
    },
    {
      "cell_type": "markdown",
      "source": [
        "* One can check if the model parameters are on CUDA."
      ],
      "metadata": {
        "id": "J-pHTn1ND9kh"
      }
    },
    {
      "cell_type": "code",
      "source": [
        "next(model.parameters()).is_cuda"
      ],
      "metadata": {
        "colab": {
          "base_uri": "https://localhost:8080/"
        },
        "id": "8chXV5DLDMYe",
        "outputId": "da923ee2-f878-4a92-c886-40b6ceaff754"
      },
      "execution_count": null,
      "outputs": [
        {
          "output_type": "execute_result",
          "data": {
            "text/plain": [
              "False"
            ]
          },
          "metadata": {},
          "execution_count": 22
        }
      ]
    },
    {
      "cell_type": "code",
      "source": [
        "gpumodel = model.cuda()"
      ],
      "metadata": {
        "id": "OMSuzIRsDxQ-"
      },
      "execution_count": 5,
      "outputs": []
    },
    {
      "cell_type": "code",
      "source": [
        "next(gpumodel.parameters()).is_cuda"
      ],
      "metadata": {
        "colab": {
          "base_uri": "https://localhost:8080/"
        },
        "id": "gAt6NndNEMYO",
        "outputId": "a40a441a-4977-41d7-dadf-2c29de69f006"
      },
      "execution_count": 6,
      "outputs": [
        {
          "output_type": "execute_result",
          "data": {
            "text/plain": [
              "True"
            ]
          },
          "metadata": {},
          "execution_count": 6
        }
      ]
    },
    {
      "cell_type": "markdown",
      "source": [
        "## Now we can use a toy Dataset"
      ],
      "metadata": {
        "id": "Da6upVqAEv6u"
      }
    },
    {
      "cell_type": "code",
      "source": [
        "cols = ['sepal length','sepal width','petal length','petal width','class']\n",
        "df = pd.read_csv('https://archive.ics.uci.edu/ml/machine-learning-databases/iris/iris.data',names=cols, header=None)"
      ],
      "metadata": {
        "id": "pDwepPViEXau"
      },
      "execution_count": 7,
      "outputs": []
    },
    {
      "cell_type": "code",
      "source": [
        "df.tail()"
      ],
      "metadata": {
        "colab": {
          "base_uri": "https://localhost:8080/",
          "height": 206
        },
        "id": "_Ab8Xvm0E4gA",
        "outputId": "83cee577-2e51-42e7-bb1e-3eaf605cbe25"
      },
      "execution_count": 8,
      "outputs": [
        {
          "output_type": "execute_result",
          "data": {
            "text/plain": [
              "     sepal length  sepal width  petal length  petal width           class\n",
              "145           6.7          3.0           5.2          2.3  Iris-virginica\n",
              "146           6.3          2.5           5.0          1.9  Iris-virginica\n",
              "147           6.5          3.0           5.2          2.0  Iris-virginica\n",
              "148           6.2          3.4           5.4          2.3  Iris-virginica\n",
              "149           5.9          3.0           5.1          1.8  Iris-virginica"
            ],
            "text/html": [
              "\n",
              "  <div id=\"df-316d1c3b-22d3-4df5-86ab-e0ee6e77e09e\">\n",
              "    <div class=\"colab-df-container\">\n",
              "      <div>\n",
              "<style scoped>\n",
              "    .dataframe tbody tr th:only-of-type {\n",
              "        vertical-align: middle;\n",
              "    }\n",
              "\n",
              "    .dataframe tbody tr th {\n",
              "        vertical-align: top;\n",
              "    }\n",
              "\n",
              "    .dataframe thead th {\n",
              "        text-align: right;\n",
              "    }\n",
              "</style>\n",
              "<table border=\"1\" class=\"dataframe\">\n",
              "  <thead>\n",
              "    <tr style=\"text-align: right;\">\n",
              "      <th></th>\n",
              "      <th>sepal length</th>\n",
              "      <th>sepal width</th>\n",
              "      <th>petal length</th>\n",
              "      <th>petal width</th>\n",
              "      <th>class</th>\n",
              "    </tr>\n",
              "  </thead>\n",
              "  <tbody>\n",
              "    <tr>\n",
              "      <th>145</th>\n",
              "      <td>6.7</td>\n",
              "      <td>3.0</td>\n",
              "      <td>5.2</td>\n",
              "      <td>2.3</td>\n",
              "      <td>Iris-virginica</td>\n",
              "    </tr>\n",
              "    <tr>\n",
              "      <th>146</th>\n",
              "      <td>6.3</td>\n",
              "      <td>2.5</td>\n",
              "      <td>5.0</td>\n",
              "      <td>1.9</td>\n",
              "      <td>Iris-virginica</td>\n",
              "    </tr>\n",
              "    <tr>\n",
              "      <th>147</th>\n",
              "      <td>6.5</td>\n",
              "      <td>3.0</td>\n",
              "      <td>5.2</td>\n",
              "      <td>2.0</td>\n",
              "      <td>Iris-virginica</td>\n",
              "    </tr>\n",
              "    <tr>\n",
              "      <th>148</th>\n",
              "      <td>6.2</td>\n",
              "      <td>3.4</td>\n",
              "      <td>5.4</td>\n",
              "      <td>2.3</td>\n",
              "      <td>Iris-virginica</td>\n",
              "    </tr>\n",
              "    <tr>\n",
              "      <th>149</th>\n",
              "      <td>5.9</td>\n",
              "      <td>3.0</td>\n",
              "      <td>5.1</td>\n",
              "      <td>1.8</td>\n",
              "      <td>Iris-virginica</td>\n",
              "    </tr>\n",
              "  </tbody>\n",
              "</table>\n",
              "</div>\n",
              "      <button class=\"colab-df-convert\" onclick=\"convertToInteractive('df-316d1c3b-22d3-4df5-86ab-e0ee6e77e09e')\"\n",
              "              title=\"Convert this dataframe to an interactive table.\"\n",
              "              style=\"display:none;\">\n",
              "        \n",
              "  <svg xmlns=\"http://www.w3.org/2000/svg\" height=\"24px\"viewBox=\"0 0 24 24\"\n",
              "       width=\"24px\">\n",
              "    <path d=\"M0 0h24v24H0V0z\" fill=\"none\"/>\n",
              "    <path d=\"M18.56 5.44l.94 2.06.94-2.06 2.06-.94-2.06-.94-.94-2.06-.94 2.06-2.06.94zm-11 1L8.5 8.5l.94-2.06 2.06-.94-2.06-.94L8.5 2.5l-.94 2.06-2.06.94zm10 10l.94 2.06.94-2.06 2.06-.94-2.06-.94-.94-2.06-.94 2.06-2.06.94z\"/><path d=\"M17.41 7.96l-1.37-1.37c-.4-.4-.92-.59-1.43-.59-.52 0-1.04.2-1.43.59L10.3 9.45l-7.72 7.72c-.78.78-.78 2.05 0 2.83L4 21.41c.39.39.9.59 1.41.59.51 0 1.02-.2 1.41-.59l7.78-7.78 2.81-2.81c.8-.78.8-2.07 0-2.86zM5.41 20L4 18.59l7.72-7.72 1.47 1.35L5.41 20z\"/>\n",
              "  </svg>\n",
              "      </button>\n",
              "      \n",
              "  <style>\n",
              "    .colab-df-container {\n",
              "      display:flex;\n",
              "      flex-wrap:wrap;\n",
              "      gap: 12px;\n",
              "    }\n",
              "\n",
              "    .colab-df-convert {\n",
              "      background-color: #E8F0FE;\n",
              "      border: none;\n",
              "      border-radius: 50%;\n",
              "      cursor: pointer;\n",
              "      display: none;\n",
              "      fill: #1967D2;\n",
              "      height: 32px;\n",
              "      padding: 0 0 0 0;\n",
              "      width: 32px;\n",
              "    }\n",
              "\n",
              "    .colab-df-convert:hover {\n",
              "      background-color: #E2EBFA;\n",
              "      box-shadow: 0px 1px 2px rgba(60, 64, 67, 0.3), 0px 1px 3px 1px rgba(60, 64, 67, 0.15);\n",
              "      fill: #174EA6;\n",
              "    }\n",
              "\n",
              "    [theme=dark] .colab-df-convert {\n",
              "      background-color: #3B4455;\n",
              "      fill: #D2E3FC;\n",
              "    }\n",
              "\n",
              "    [theme=dark] .colab-df-convert:hover {\n",
              "      background-color: #434B5C;\n",
              "      box-shadow: 0px 1px 3px 1px rgba(0, 0, 0, 0.15);\n",
              "      filter: drop-shadow(0px 1px 2px rgba(0, 0, 0, 0.3));\n",
              "      fill: #FFFFFF;\n",
              "    }\n",
              "  </style>\n",
              "\n",
              "      <script>\n",
              "        const buttonEl =\n",
              "          document.querySelector('#df-316d1c3b-22d3-4df5-86ab-e0ee6e77e09e button.colab-df-convert');\n",
              "        buttonEl.style.display =\n",
              "          google.colab.kernel.accessAllowed ? 'block' : 'none';\n",
              "\n",
              "        async function convertToInteractive(key) {\n",
              "          const element = document.querySelector('#df-316d1c3b-22d3-4df5-86ab-e0ee6e77e09e');\n",
              "          const dataTable =\n",
              "            await google.colab.kernel.invokeFunction('convertToInteractive',\n",
              "                                                     [key], {});\n",
              "          if (!dataTable) return;\n",
              "\n",
              "          const docLinkHtml = 'Like what you see? Visit the ' +\n",
              "            '<a target=\"_blank\" href=https://colab.research.google.com/notebooks/data_table.ipynb>data table notebook</a>'\n",
              "            + ' to learn more about interactive tables.';\n",
              "          element.innerHTML = '';\n",
              "          dataTable['output_type'] = 'display_data';\n",
              "          await google.colab.output.renderOutput(dataTable, element);\n",
              "          const docLink = document.createElement('div');\n",
              "          docLink.innerHTML = docLinkHtml;\n",
              "          element.appendChild(docLink);\n",
              "        }\n",
              "      </script>\n",
              "    </div>\n",
              "  </div>\n",
              "  "
            ]
          },
          "metadata": {},
          "execution_count": 8
        }
      ]
    },
    {
      "cell_type": "code",
      "source": [
        "df['class'].unique()"
      ],
      "metadata": {
        "colab": {
          "base_uri": "https://localhost:8080/"
        },
        "id": "MqxXcuRxGcZn",
        "outputId": "5ad24227-131a-4c04-fe99-c0295c57d7ee"
      },
      "execution_count": 9,
      "outputs": [
        {
          "output_type": "execute_result",
          "data": {
            "text/plain": [
              "array(['Iris-setosa', 'Iris-versicolor', 'Iris-virginica'], dtype=object)"
            ]
          },
          "metadata": {},
          "execution_count": 9
        }
      ]
    },
    {
      "cell_type": "code",
      "source": [
        "df['target'] = df.apply(lambda x: 0 if x['class'] == 'Iris-setosa' else 1 if \\\n",
        "                        x['class'] == 'Iris-versicolor' else 2, axis = 1)"
      ],
      "metadata": {
        "id": "wS99JXXjGekX"
      },
      "execution_count": 10,
      "outputs": []
    },
    {
      "cell_type": "code",
      "source": [
        "df['target'].unique()"
      ],
      "metadata": {
        "colab": {
          "base_uri": "https://localhost:8080/"
        },
        "id": "MKiUIPr_HELf",
        "outputId": "e14a840f-4cc4-4c01-ffeb-303e9427ed9f"
      },
      "execution_count": 11,
      "outputs": [
        {
          "output_type": "execute_result",
          "data": {
            "text/plain": [
              "array([0, 1, 2])"
            ]
          },
          "metadata": {},
          "execution_count": 11
        }
      ]
    },
    {
      "cell_type": "code",
      "source": [
        "X = df[['sepal length','sepal width','petal length','petal width']].values"
      ],
      "metadata": {
        "id": "A7b1yJZgE6Wu"
      },
      "execution_count": 21,
      "outputs": []
    },
    {
      "cell_type": "code",
      "source": [
        "df['Iris-setosa'].unique()"
      ],
      "metadata": {
        "colab": {
          "base_uri": "https://localhost:8080/"
        },
        "id": "dqU0wqzwFQVJ",
        "outputId": "e0650fe2-2fd4-4889-8783-44154fb4e02c"
      },
      "execution_count": null,
      "outputs": [
        {
          "output_type": "execute_result",
          "data": {
            "text/plain": [
              "array(['Iris-setosa', 'Iris-versicolor', 'Iris-virginica'], dtype=object)"
            ]
          },
          "metadata": {},
          "execution_count": 30
        }
      ]
    },
    {
      "cell_type": "code",
      "source": [
        "Y = df['target'].values"
      ],
      "metadata": {
        "id": "7Gu7nZKjFMgO"
      },
      "execution_count": 22,
      "outputs": []
    },
    {
      "cell_type": "code",
      "source": [
        "X_train, X_test, y_train, y_test = train_test_split(X,Y, test_size=0.2, random_state=42)"
      ],
      "metadata": {
        "id": "-OxJGDCOFNdu"
      },
      "execution_count": 23,
      "outputs": []
    },
    {
      "cell_type": "code",
      "source": [
        "X_train = torch.FloatTensor(X_train).cuda()\n",
        "X_test = torch.FloatTensor(X_test).cuda()\n",
        "y_train = torch.FloatTensor(y_train).type(torch.LongTensor).cuda()\n",
        "y_test = torch.FloatTensor(y_test).type(torch.LongTensor).cuda()"
      ],
      "metadata": {
        "id": "uArAhD3XFs2g"
      },
      "execution_count": 24,
      "outputs": []
    },
    {
      "cell_type": "code",
      "source": [
        "trainloader = DataLoader(X_train, batch_size = 60, shuffle=True, pin_memory = True)\n",
        "testloader = DataLoader(X_test, batch_size = 60, shuffle=False, pin_memory = True)"
      ],
      "metadata": {
        "id": "i9FTXaEhGJde"
      },
      "execution_count": 17,
      "outputs": []
    },
    {
      "cell_type": "code",
      "source": [
        "torch.manual_seed(42)\n",
        "model = Model()\n",
        "gpumodel = model.cuda()\n",
        "criterion = nn.CrossEntropyLoss()\n",
        "optimizer = torch.optim.Adam(model.parameters(), lr = 0.01)\n",
        "\n",
        "start = time.time()\n",
        "epochs = 100\n",
        "losses = []\n",
        "for i in range(epochs):\n",
        "\n",
        "  y_pred = gpumodel.forward(X_train)\n",
        "  loss = criterion(y_pred,y_train)\n",
        "  losses.append(loss)\n",
        "\n",
        "  if i%10 ==0:\n",
        "    print(f'Epoch: {i+1}, loss: {loss.item()}')\n",
        "\n",
        "  optimizer.zero_grad()\n",
        "  loss.backward()\n",
        "  optimizer.step()\n",
        "\n",
        "\n",
        "end = time.time()-start\n",
        "print(f'Total time: {end}')"
      ],
      "metadata": {
        "colab": {
          "base_uri": "https://localhost:8080/"
        },
        "id": "jgVr03p_mss4",
        "outputId": "01afc99a-eab7-44c8-bee4-db70cebb802f"
      },
      "execution_count": 25,
      "outputs": [
        {
          "output_type": "stream",
          "name": "stdout",
          "text": [
            "Epoch: 1, loss: 1.0846846103668213\n",
            "Epoch: 11, loss: 0.9183797836303711\n",
            "Epoch: 21, loss: 0.7622429132461548\n",
            "Epoch: 31, loss: 0.627383291721344\n",
            "Epoch: 41, loss: 0.46674731373786926\n",
            "Epoch: 51, loss: 0.2877061069011688\n",
            "Epoch: 61, loss: 0.16738925874233246\n",
            "Epoch: 71, loss: 0.10598890483379364\n",
            "Epoch: 81, loss: 0.0802135318517685\n",
            "Epoch: 91, loss: 0.06947017461061478\n",
            "Total time: 0.20412540435791016\n"
          ]
        }
      ]
    },
    {
      "cell_type": "code",
      "source": [
        "correct = 0\n",
        "with torch.no_grad():\n",
        "  for i,data in enumerate(X_test):\n",
        "    y_val = gpumodel.forward(data)\n",
        "    print(f'{i+1:2}. {str(y_val):38} {y_test[i]}')\n",
        "    if y_val.argmax().item() == y_test[i]:\n",
        "      correct += 1\n",
        "print(f'\\n{correct} out of {len(y_test)} = {100*correct/len(y_test):.2f}% correct')"
      ],
      "metadata": {
        "colab": {
          "base_uri": "https://localhost:8080/"
        },
        "id": "Dvu_NWfPpUAH",
        "outputId": "528e9fd5-a48b-425d-85b2-332af7213681"
      },
      "execution_count": 27,
      "outputs": [
        {
          "output_type": "stream",
          "name": "stdout",
          "text": [
            " 1. tensor([-1.4120,  6.3132,  2.6088], device='cuda:0') 1\n",
            " 2. tensor([ 8.4023,  2.4573, -7.5391], device='cuda:0') 0\n",
            " 3. tensor([-12.1991,   1.1829,  13.7443], device='cuda:0') 2\n",
            " 4. tensor([-1.6752,  5.9271,  2.8622], device='cuda:0') 1\n",
            " 5. tensor([-1.5887,  6.7559,  2.8371], device='cuda:0') 1\n",
            " 6. tensor([ 7.8451,  2.3289, -7.0010], device='cuda:0') 0\n",
            " 7. tensor([ 1.1273,  6.0707, -0.0493], device='cuda:0') 1\n",
            " 8. tensor([-5.2088,  4.4484,  6.5316], device='cuda:0') 2\n",
            " 9. tensor([-3.2614,  4.9128,  4.4788], device='cuda:0') 1\n",
            "10. tensor([0.5683, 6.5565, 0.5445], device='cuda:0') 1\n",
            "11. tensor([-4.3492,  4.7780,  5.6344], device='cuda:0') 2\n",
            "12. tensor([ 7.3631,  2.0552, -6.5497], device='cuda:0') 0\n",
            "13. tensor([ 8.1384,  2.3552, -7.2879], device='cuda:0') 0\n",
            "14. tensor([ 7.4936,  2.1057, -6.6740], device='cuda:0') 0\n",
            "15. tensor([ 7.8643,  2.2491, -7.0269], device='cuda:0') 0\n",
            "16. tensor([-1.3322,  6.5325,  2.5448], device='cuda:0') 1\n",
            "17. tensor([-8.2712,  2.4244,  9.6405], device='cuda:0') 2\n",
            "18. tensor([0.3374, 6.4827, 0.7657], device='cuda:0') 1\n",
            "19. tensor([-1.5909,  5.7677,  2.7565], device='cuda:0') 1\n",
            "20. tensor([-8.1891,  2.2739,  9.5411], device='cuda:0') 2\n",
            "21. tensor([ 7.2431,  2.0816, -6.4291], device='cuda:0') 0\n",
            "22. tensor([-3.9169,  4.6616,  5.1603], device='cuda:0') 2\n",
            "23. tensor([ 7.3462,  2.2806, -6.5133], device='cuda:0') 0\n",
            "24. tensor([-7.8081,  2.5460,  9.1545], device='cuda:0') 2\n",
            "25. tensor([-5.7146,  5.6768,  7.1671], device='cuda:0') 2\n",
            "26. tensor([-6.1246,  3.7117,  7.4511], device='cuda:0') 2\n",
            "27. tensor([-7.8021,  2.8851,  9.1732], device='cuda:0') 2\n",
            "28. tensor([-8.0843,  2.8461,  9.4759], device='cuda:0') 2\n",
            "29. tensor([ 7.2430,  2.0465, -6.4321], device='cuda:0') 0\n",
            "30. tensor([ 7.1733,  2.1733, -6.3522], device='cuda:0') 0\n",
            "\n",
            "30 out of 30 = 100.00% correct\n"
          ]
        }
      ]
    },
    {
      "cell_type": "code",
      "source": [],
      "metadata": {
        "id": "bsK_o_kQqYfW"
      },
      "execution_count": null,
      "outputs": []
    }
  ]
}